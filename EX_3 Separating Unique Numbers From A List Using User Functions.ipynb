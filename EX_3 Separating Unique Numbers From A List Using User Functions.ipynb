{
 "cells": [
  {
   "cell_type": "code",
   "execution_count": 22,
   "id": "b1b81bf0",
   "metadata": {},
   "outputs": [
    {
     "name": "stdout",
     "output_type": "stream",
     "text": [
      "Enter the digts you want. Press ' . ' to end1\n",
      "Enter the digts you want. Press ' . ' to end2\n",
      "Enter the digts you want. Press ' . ' to end32\n",
      "Enter the digts you want. Press ' . ' to end43\n",
      "Enter the digts you want. Press ' . ' to end34\n",
      "Enter the digts you want. Press ' . ' to end34\n",
      "Enter the digts you want. Press ' . ' to end21\n",
      "Enter the digts you want. Press ' . ' to end12\n",
      "Enter the digts you want. Press ' . ' to end12\n",
      "Enter the digts you want. Press ' . ' to end44\n",
      "Enter the digts you want. Press ' . ' to end44\n",
      "Enter the digts you want. Press ' . ' to end2\n",
      "Enter the digts you want. Press ' . ' to end3\n",
      "Enter the digts you want. Press ' . ' to end4\n",
      "Enter the digts you want. Press ' . ' to end5\n",
      "Enter the digts you want. Press ' . ' to end5\n",
      "Enter the digts you want. Press ' . ' to end54\n",
      "Enter the digts you want. Press ' . ' to end.\n",
      "[1, 2, 32, 43, 34, 34, 21, 12, 12, 44, 44, 2, 3, 4, 5, 5, 54]\n",
      "This is the unique number list.  [1, 32, 43, 21, 3, 4, 54]\n",
      "This is the duplicate number list.  [34, 12, 44, 2, 5]\n"
     ]
    }
   ],
   "source": [
    "## Program to separate unique digits from a list\n",
    "\n",
    "\n",
    "# The User Functions Are As Follows\n",
    "def gather_input():\n",
    "    \n",
    "    ch = 0\n",
    "    while ch != '.':\n",
    "        ch = input(\"Enter the digts you want. Press \\' . \\' to end\")\n",
    "        if ch == '.':\n",
    "            break\n",
    "        else:\n",
    "            list_1.append(int(ch))\n",
    "\n",
    "def unique_separator(unique, duplicate): #This function here gets two arguments from the main program. Unique and duplicate\n",
    "    \n",
    "    unique == unique # A variable initialized inside a function works inside a function. Here the variable on the left is \n",
    "                        #function's variable. So we are duplicating it by the one we got from outside. We can change the name\n",
    "    duplicate == duplicate\n",
    "    for items in list_1:\n",
    "        if items not in unique: #This line will add all the digits once in the unique list\n",
    "            unique.append(items)\n",
    "        elif items in duplicate: #This line will check if there is already a number in the duplicate list then continues\n",
    "            continue\n",
    "        else: # This line will add the digit to duplicate if its already in unique list\n",
    "            duplicate.append(items) \n",
    "\n",
    "        #Through this above lines, we have just got the duplicate list. But the unique list still remains unfiltered as \n",
    "        # there are still the numbers that are also in duplicate list\n",
    "\n",
    "        # print(unique) You can check for yourself\n",
    "\n",
    "    unique.clear() #This line empties the data inside unique list\n",
    "    \n",
    "    #Now for the unique list, we need to skip the items that are in duplicate list\n",
    "    \n",
    "    for items in list_1:\n",
    "        if items in duplicate:\n",
    "            continue\n",
    "        else:\n",
    "            unique.append(items)\n",
    "        # After the function ends, the variable in python functions are returned automatically to the main program.\n",
    "        \n",
    "\n",
    "\n",
    "\n",
    "# Here Starts the main program\n",
    "\n",
    "list_1 = []\n",
    "gather_input() #User function is called that is defined above\n",
    "\n",
    "unique = []\n",
    "duplicate = []\n",
    "unique_separator(unique, duplicate)\n",
    "\n",
    "\n",
    "print(list_1)\n",
    "print(\"This is the unique number list. \", unique)\n",
    "print(\"This is the duplicate number list. \", duplicate)"
   ]
  },
  {
   "cell_type": "code",
   "execution_count": null,
   "id": "f1669514",
   "metadata": {},
   "outputs": [],
   "source": []
  }
 ],
 "metadata": {
  "kernelspec": {
   "display_name": "Python 3 (ipykernel)",
   "language": "python",
   "name": "python3"
  },
  "language_info": {
   "codemirror_mode": {
    "name": "ipython",
    "version": 3
   },
   "file_extension": ".py",
   "mimetype": "text/x-python",
   "name": "python",
   "nbconvert_exporter": "python",
   "pygments_lexer": "ipython3",
   "version": "3.9.7"
  }
 },
 "nbformat": 4,
 "nbformat_minor": 5
}
