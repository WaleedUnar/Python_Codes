{
 "cells": [
  {
   "cell_type": "code",
   "execution_count": 17,
   "id": "d4e9aa2d",
   "metadata": {},
   "outputs": [
    {
     "name": "stdout",
     "output_type": "stream",
     "text": [
      "{'name': 'Khair Muhammad', 'car_type': 'SUV', 'origin': 'National', 'brand': 'Honda', 'color': 'Black'}\n",
      "{'name': 'Khair Muhammad', 'car_type': 'SUV', 'origin': 'National', 'brand': 'Honda'}\n",
      "\n",
      " \n",
      " \n",
      "\n",
      "name Khair Muhammad\n",
      "car_type SUV\n",
      "origin National\n",
      "brand Honda\n",
      "\n",
      " \n",
      " \n",
      "\n",
      "Khair Muhammad\n",
      "SUV\n",
      "National\n",
      "Honda\n",
      "\n",
      " \n",
      " \n",
      "\n",
      "Sports ## car type changed\n",
      "Sports\n"
     ]
    }
   ],
   "source": [
    "#For this Exercise,  Let me create a dictionary containing list of owners and cars\n",
    "# Starting with single dictionary\n",
    "\n",
    "owner_1 = {\n",
    "    \"name\" : \"Khair Muhammad\",\n",
    "    \"car_type\" : \"SUV\",\n",
    "    \"origin\" : \"National\",\n",
    "    \"brand\" : \"Honda\"\n",
    "}\n",
    "\n",
    "# to add an extra term in dictionary, following is the way\n",
    "\n",
    "owner_1[\"color\"] = \"Black\"\n",
    "\n",
    "print(owner_1) # Color Term Added.\n",
    "del(owner_1[\"color\"])\n",
    "print(owner_1) # Color Term deleted.\n",
    "\n",
    "\n",
    "#To See All The items in Dictionary, we use items()\n",
    "print(\"\\n \\n \\n\") #To separate output\n",
    "for x,y in owner_1.items(): #The X gets the values for keys and Y gets the key values.\n",
    "    print(x , y)\n",
    "    \n",
    "    \n",
    "print(\"\\n \\n \\n\")# To separate Output\n",
    "#We can also use keys() or values() function if we want either of them\n",
    "\n",
    "for x in owner_1.values(): #Similar is for the keys\n",
    "    print(x)\n",
    "    \n",
    "print(\"\\n \\n \\n\")\n",
    "    \n",
    "#Modifying a certain key_value according to a condition\n",
    "if owner_1[\"name\"] == \"Khair Muhammad\":\n",
    "    owner_1[\"car_type\"] = \"Sports\"\n",
    "    print(owner_1[\"car_type\"] + \" ## car type changed\") #car Type Changed\n",
    "    \n"
   ]
  },
  {
   "cell_type": "code",
   "execution_count": 45,
   "id": "81d2507f",
   "metadata": {},
   "outputs": [
    {
     "name": "stdout",
     "output_type": "stream",
     "text": [
      "3\n",
      "4\n",
      "\n",
      " \n",
      " \n",
      " \n",
      "National\n"
     ]
    }
   ],
   "source": [
    "# Moving Towards the Nested Dictionary\n",
    "owners = {\n",
    "    \"owner_2\" : {     #This dictionary contains owner number as a key and another whole dictionary as its value\n",
    "        \"name\" : \"Fahad Sammo\",\n",
    "        \"car_type\" : \"Truck\",\n",
    "        \"origin\" : \"National\",\n",
    "        \"brand\" : \"Ford\"\n",
    "    },\n",
    "    \n",
    "    \"owner_3\" : {\n",
    "        \"name\" : \"Asad Soomro\",\n",
    "        \"car_type\" : \"SUV\",\n",
    "        \"origin\" : \"International\",\n",
    "        \"brand\" : \"Volkswagen\"\n",
    "    },\n",
    "    \n",
    "    \"owner_4\" : {\n",
    "        \"name\" : \"Adil Mugal\",\n",
    "        \"car_type\" : \"Sports\",\n",
    "        \"origin\" : \"International\",\n",
    "        \"brand\" : \"Mercedes\"\n",
    "    }\n",
    "}\n",
    "\n",
    "print(len(owners)) # This is the length of main dictionary containing 3 elements(owner_2, owner_3, owner_4)\n",
    "print(len(owners[\"owner_2\"])) # This is the length of elements of a certain key in main dictionary\n",
    "print(\"\\n \\n \\n \")\n",
    "\n",
    "\n",
    "#Adding another dictionary directly\n",
    "owners[\"owner_1\"] = owner_1\n",
    "\n",
    "#Searching for a certain key value from the nested dictionary i.e Origin value from owner_1 dictionary\n",
    "\n",
    "for a,b in owners.items(): #a contains keys,  b contains values but here b contains another dictionary(nested one)\n",
    "    if a == \"owner_1\":    #Condition to find owner_1 dictionary\n",
    "        for x,y in b.items(): #x,y contains the keys and values for owner_1 dictionary\n",
    "            if x == \"origin\": #Searches for the key origin. Otherwise continues the search in the \"else statement\"\n",
    "                print(y) #Prints the value of origin key from owner_1 dictionary residing inside owners dictionary!\n",
    "            else:\n",
    "                continue\n",
    "    else:\n",
    "        continue"
   ]
  }
 ],
 "metadata": {
  "kernelspec": {
   "display_name": "Python 3 (ipykernel)",
   "language": "python",
   "name": "python3"
  },
  "language_info": {
   "codemirror_mode": {
    "name": "ipython",
    "version": 3
   },
   "file_extension": ".py",
   "mimetype": "text/x-python",
   "name": "python",
   "nbconvert_exporter": "python",
   "pygments_lexer": "ipython3",
   "version": "3.9.7"
  }
 },
 "nbformat": 4,
 "nbformat_minor": 5
}
