{
 "cells": [
  {
   "cell_type": "code",
   "execution_count": 30,
   "id": "74757247",
   "metadata": {},
   "outputs": [
    {
     "name": "stdout",
     "output_type": "stream",
     "text": [
      "Enter the height of the diamond. 7\n",
      "        *\n",
      "       ***\n",
      "      *****\n",
      "     *******\n",
      "    *********\n",
      "   ***********\n",
      "  *************\n",
      "   ***********\n",
      "    *********\n",
      "     *******\n",
      "      *****\n",
      "       ***\n",
      "        *\n"
     ]
    }
   ],
   "source": [
    "#This is the Diamond Program\n",
    "\n",
    "height = int(input(\"Enter the height of the diamond. \"))\n",
    "for num in range( height): #This Loop Prints The Upper Half Of The Diamond\n",
    "    print(\" \" * (height - num), \"*\" * (2 * num + 1))\n",
    "    \n",
    "for num in range(height - 2, -1, -1): #This One Is For The Lower Half\n",
    "    print(\" \" * (height - num), \"*\" * (2 * num + 1))"
   ]
  }
 ],
 "metadata": {
  "kernelspec": {
   "display_name": "Python 3 (ipykernel)",
   "language": "python",
   "name": "python3"
  },
  "language_info": {
   "codemirror_mode": {
    "name": "ipython",
    "version": 3
   },
   "file_extension": ".py",
   "mimetype": "text/x-python",
   "name": "python",
   "nbconvert_exporter": "python",
   "pygments_lexer": "ipython3",
   "version": "3.9.7"
  }
 },
 "nbformat": 4,
 "nbformat_minor": 5
}
