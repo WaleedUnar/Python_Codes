{
 "cells": [
  {
   "cell_type": "code",
   "execution_count": 140,
   "id": "c2e259f1",
   "metadata": {},
   "outputs": [
    {
     "name": "stdout",
     "output_type": "stream",
     "text": [
      "The area of rectangle is:  600\n",
      "The area of circle is:  50.26548245743669\n",
      "The area of it's hemisphere is:  25.132741228718345\n"
     ]
    }
   ],
   "source": [
    "# A program that calculates area of circle and rectangle\n",
    "\n",
    "from math import pi\n",
    "\n",
    "\n",
    "class shapes: #Parent Class\n",
    "    def __init__(self, length = 0, width = 0, radius = 0): #Setting Them Default To zero\n",
    "        self.length = length\n",
    "        self.width = width\n",
    "        self.radius = radius\n",
    "        \n",
    "class rectangle(shapes):\n",
    "    \n",
    "    \n",
    "    def area(self):\n",
    "        print(\"The area of rectangle is: \", self.length * self.width)\n",
    "        \n",
    "class circle(shapes):\n",
    "    \n",
    "    def area(self):\n",
    "        print(\"The area of circle is: \", pi *(self.radius) ** 2)\n",
    "        \n",
    "class hemisphere(circle):\n",
    "    def area(self):\n",
    "        print(\"The area of it's hemisphere is: \", (pi * (self.radius) ** 2)/2)\n",
    "        \n",
    "object_1 = rectangle(20, 30)\n",
    "object_1.area()\n",
    "\n",
    "object_2 = circle(radius = 4)\n",
    "object_2.area()\n",
    "\n",
    "object_3 = hemisphere(radius = 4)\n",
    "object_3.area()\n",
    "\n"
   ]
  },
  {
   "cell_type": "code",
   "execution_count": 66,
   "id": "8d7a0c43",
   "metadata": {},
   "outputs": [
    {
     "data": {
      "text/plain": [
       "8"
      ]
     },
     "execution_count": 66,
     "metadata": {},
     "output_type": "execute_result"
    }
   ],
   "source": [
    "2**3"
   ]
  }
 ],
 "metadata": {
  "kernelspec": {
   "display_name": "Python 3 (ipykernel)",
   "language": "python",
   "name": "python3"
  },
  "language_info": {
   "codemirror_mode": {
    "name": "ipython",
    "version": 3
   },
   "file_extension": ".py",
   "mimetype": "text/x-python",
   "name": "python",
   "nbconvert_exporter": "python",
   "pygments_lexer": "ipython3",
   "version": "3.9.7"
  }
 },
 "nbformat": 4,
 "nbformat_minor": 5
}
