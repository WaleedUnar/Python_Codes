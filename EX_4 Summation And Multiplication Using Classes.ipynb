{
 "cells": [
  {
   "cell_type": "code",
   "execution_count": 5,
   "id": "9495d913",
   "metadata": {},
   "outputs": [
    {
     "name": "stdout",
     "output_type": "stream",
     "text": [
      "The Summation is:  90\n",
      "The multiplication is 24000\n"
     ]
    }
   ],
   "source": [
    "# In This Program, let's use classes and create 3 object instances and add and multiply them\n",
    "\n",
    "class Three_Functions:\n",
    "    def __init__(self, arg_1, arg_2, arg_3):\n",
    "        self.arg_1 = arg_1\n",
    "        self.arg_2 = arg_2\n",
    "        self.arg_3 = arg_3\n",
    "        \n",
    "    def addition(self):\n",
    "        return(self.arg_1 + self.arg_2 + self.arg_3)\n",
    "    \n",
    "    def multiplication(self):\n",
    "        return self.arg_1 * self.arg_2 * self.arg_3\n",
    "    \n",
    "object_1 = Three_Functions(20, 30, 40)\n",
    "\n",
    "print(\"The Summation is: \", object_1.addition())\n",
    "print(\"The multiplication is\", object_1.multiplication())\n",
    "\n"
   ]
  }
 ],
 "metadata": {
  "kernelspec": {
   "display_name": "Python 3 (ipykernel)",
   "language": "python",
   "name": "python3"
  },
  "language_info": {
   "codemirror_mode": {
    "name": "ipython",
    "version": 3
   },
   "file_extension": ".py",
   "mimetype": "text/x-python",
   "name": "python",
   "nbconvert_exporter": "python",
   "pygments_lexer": "ipython3",
   "version": "3.9.7"
  }
 },
 "nbformat": 4,
 "nbformat_minor": 5
}
