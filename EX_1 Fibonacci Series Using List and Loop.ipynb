{
 "cells": [
  {
   "cell_type": "code",
   "execution_count": 4,
   "id": "65717eb2",
   "metadata": {},
   "outputs": [
    {
     "name": "stdout",
     "output_type": "stream",
     "text": [
      "Enter the starting number apart from zero: 1\n",
      "Enter the limit number: 20\n",
      "[0, 1, 1, 1, 2, 2, 3, 4, 5, 7, 9, 12, 16]\n"
     ]
    }
   ],
   "source": [
    "#Starting Simple Python And Creating A Fibonacci Sequence\n",
    "# Fibonacci Sequence is a list starting from 0, 1 and Adding the previous responses\n",
    "\n",
    "start = int(input(\"Enter the starting number apart from zero: \"))\n",
    "end = int(input(\"Enter the limit number: \")) #The fibonacci series won't go beyond that limit\n",
    "# We can simply use start = [0,1] if we know the start and don't want the user to give the start\n",
    "\n",
    "fibonacci = [0, start] #list for fibonacci series\n",
    "i = 1 #index for the list. If we start from '0', the [i - 1] index will be [-1](The last digit in list), giving three times '1'.\n",
    "\n",
    "while fibonacci[i] <= end:\n",
    "    temp = fibonacci[i] + fibonacci[i-1]\n",
    "    if temp <= end:                      #This will check whether the sum gets beyond the limit\n",
    "        fibonacci.append(temp)\n",
    "        i = i + 1\n",
    "    else:\n",
    "        break                            #The Loop will break if the sum gets beyond Limit\n",
    "    \n",
    "print(fibonacci)"
   ]
  },
  {
   "cell_type": "code",
   "execution_count": null,
   "id": "dc7d2f33",
   "metadata": {},
   "outputs": [],
   "source": []
  }
 ],
 "metadata": {
  "kernelspec": {
   "display_name": "Python 3 (ipykernel)",
   "language": "python",
   "name": "python3"
  },
  "language_info": {
   "codemirror_mode": {
    "name": "ipython",
    "version": 3
   },
   "file_extension": ".py",
   "mimetype": "text/x-python",
   "name": "python",
   "nbconvert_exporter": "python",
   "pygments_lexer": "ipython3",
   "version": "3.9.7"
  }
 },
 "nbformat": 4,
 "nbformat_minor": 5
}
